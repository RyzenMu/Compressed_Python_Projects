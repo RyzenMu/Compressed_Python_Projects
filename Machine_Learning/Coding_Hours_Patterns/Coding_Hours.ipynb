{
 "cells": [
  {
   "cell_type": "code",
   "execution_count": 61,
   "metadata": {},
   "outputs": [],
   "source": [
    "import pandas as pd\n",
    "\n",
    "my_data = pd.read_csv('SCHEDULER.csv')\n",
    "\n",
    "\n",
    "# 40 unique dates\n",
    "date_string = my_data['DATE'].unique()\n",
    "date_column = my_data['DATE']\n",
    "\n",
    "\n",
    "# single instance of a time\n",
    "def Single_instance_time(number):\n",
    "    time_column = my_data['DURATION']\n",
    "\n",
    "    patt = []\n",
    "\n",
    "    for letter in time_column[number]:\n",
    "    \n",
    "        if letter == ':':\n",
    "            continue\n",
    "        else:        \n",
    "        \n",
    "            patt.append(letter)\n",
    "\n",
    "    \n",
    "\n",
    "    pattern = [patt[0]+patt[1], patt[2]+patt[3], patt[4]+patt[5]]\n",
    "    \n",
    "\n",
    "    for j in range(3):\n",
    "        pattern[j] = int(pattern[j])\n",
    "\n",
    "    time_sumation = pattern[0]*3600 + pattern[1]*60 + pattern[2]\n",
    "\n",
    "    return time_sumation\n",
    "\n",
    "Single_instance_time(20)\n",
    "\n",
    "\n",
    "\n",
    "for i in range(5):\n",
    "    Single_instance_time(i)\n",
    "\n",
    "\n",
    "\n",
    "\n",
    "    "
   ]
  },
  {
   "cell_type": "code",
   "execution_count": 62,
   "metadata": {},
   "outputs": [
    {
     "name": "stdout",
     "output_type": "stream",
     "text": [
      "10/07/22 [0, 1, 2]\n",
      "11/07/22 [3, 4]\n",
      "12/07/22 [5, 6]\n",
      "13/07/22 [7]\n",
      "14/07/22 [8]\n",
      "15/07/22 [9, 10]\n",
      "16/07/22 [11, 12]\n",
      "17/07/22 [13, 14, 15, 16, 17]\n",
      "18/07/22 [18, 19]\n",
      "21/07/22 [20, 21]\n",
      "22/07/22 [22, 23]\n",
      "23/07/22 [24, 25, 26, 27, 28]\n",
      "24/07/22 [29, 30, 31, 32, 33]\n",
      "25/07/22 [34]\n",
      "26/07/22 [35]\n",
      "27/07/22 [36, 37]\n",
      "28/07/22 [38, 39]\n",
      "29/07/22 [40, 41]\n",
      "30/07/22 [42, 43]\n",
      "31/07/22 [44, 45, 46]\n",
      "01/08/22 [47, 48]\n",
      "02/08/22 [49]\n",
      "03/08/22 [50, 51]\n",
      "04/08/22 [52, 53]\n",
      "05/08/22 [54, 55]\n",
      "06/08/22 [56]\n",
      "07/08/22 [57, 58]\n",
      "08/08/22 [59]\n",
      "24/08/22 [60, 61, 62]\n",
      "25/08/22 [63, 64, 65, 66, 67]\n",
      "26/08/22 [68, 69, 70]\n",
      "27/08/22 [71, 72, 73, 74, 75, 76, 77]\n",
      "28/08/22 [78, 79, 80, 81, 82, 83]\n",
      "29/08/22 [84, 85, 86]\n",
      "30/08/22 [87, 88, 89]\n",
      "31/08/22 [90, 91, 92, 93, 94]\n",
      "01/09/22 [95, 96, 97]\n",
      "02/09/22 [98, 99]\n",
      "03/09/22 [100, 101, 102]\n"
     ]
    }
   ],
   "source": [
    "# 40 times\n",
    "\n",
    "my_dict = {}\n",
    "\n",
    "for i in range(len(date_column)-1):\n",
    "    arr = []\n",
    "    if date_column[i] != date_column[i+1]:\n",
    "        for j in range(len(date_column)-1):\n",
    "            if date_column[i] == date_column[j]:\n",
    "                # print(date_column[i], j)\n",
    "                arr.append(j)\n",
    "\n",
    "    if date_column[i] != date_column[i+1]:\n",
    "        print(date_column[i], arr) \n",
    "        my_dict[date_column[i]] = arr\n",
    "\n",
    "    \n",
    "\n",
    "    "
   ]
  },
  {
   "cell_type": "code",
   "execution_count": 63,
   "metadata": {},
   "outputs": [
    {
     "name": "stdout",
     "output_type": "stream",
     "text": [
      "{'10/07/22': [0, 1, 2], '11/07/22': [3, 4], '12/07/22': [5, 6], '13/07/22': [7], '14/07/22': [8], '15/07/22': [9, 10], '16/07/22': [11, 12], '17/07/22': [13, 14, 15, 16, 17], '18/07/22': [18, 19], '21/07/22': [20, 21], '22/07/22': [22, 23], '23/07/22': [24, 25, 26, 27, 28], '24/07/22': [29, 30, 31, 32, 33], '25/07/22': [34], '26/07/22': [35], '27/07/22': [36, 37], '28/07/22': [38, 39], '29/07/22': [40, 41], '30/07/22': [42, 43], '31/07/22': [44, 45, 46], '01/08/22': [47, 48], '02/08/22': [49], '03/08/22': [50, 51], '04/08/22': [52, 53], '05/08/22': [54, 55], '06/08/22': [56], '07/08/22': [57, 58], '08/08/22': [59], '24/08/22': [60, 61, 62], '25/08/22': [63, 64, 65, 66, 67], '26/08/22': [68, 69, 70], '27/08/22': [71, 72, 73, 74, 75, 76, 77], '28/08/22': [78, 79, 80, 81, 82, 83], '29/08/22': [84, 85, 86], '30/08/22': [87, 88, 89], '31/08/22': [90, 91, 92, 93, 94], '01/09/22': [95, 96, 97], '02/09/22': [98, 99], '03/09/22': [100, 101, 102]}\n"
     ]
    }
   ],
   "source": [
    "print(my_dict)"
   ]
  },
  {
   "cell_type": "code",
   "execution_count": 64,
   "metadata": {},
   "outputs": [
    {
     "name": "stdout",
     "output_type": "stream",
     "text": [
      "18148\n",
      "14693\n",
      "16688\n",
      "6337\n",
      "1772\n",
      "10705\n",
      "11668\n",
      "30737\n",
      "6174\n",
      "10726\n",
      "13219\n",
      "31664\n",
      "28811\n",
      "5610\n",
      "7093\n",
      "9666\n",
      "12551\n",
      "13629\n",
      "14553\n",
      "10737\n",
      "8447\n",
      "2220\n",
      "6622\n",
      "11387\n",
      "9838\n",
      "1856\n",
      "19220\n",
      "3092\n",
      "7079\n",
      "9558\n",
      "13247\n",
      "7426\n",
      "29868\n",
      "4176\n",
      "9910\n",
      "8426\n",
      "8359\n",
      "5998\n",
      "11025\n"
     ]
    }
   ],
   "source": [
    "for keee in my_dict:\n",
    "    total = 0\n",
    "    for item in my_dict[keee]:\n",
    "        Single_instance_time(item)\n",
    "        total += Single_instance_time(item)\n",
    "    print(total)    "
   ]
  }
 ],
 "metadata": {
  "kernelspec": {
   "display_name": "Python 3.10.4 64-bit",
   "language": "python",
   "name": "python3"
  },
  "language_info": {
   "codemirror_mode": {
    "name": "ipython",
    "version": 3
   },
   "file_extension": ".py",
   "mimetype": "text/x-python",
   "name": "python",
   "nbconvert_exporter": "python",
   "pygments_lexer": "ipython3",
   "version": "3.10.4"
  },
  "orig_nbformat": 4,
  "vscode": {
   "interpreter": {
    "hash": "916dbcbb3f70747c44a77c7bcd40155683ae19c65e1c03b4aa3499c5328201f1"
   }
  }
 },
 "nbformat": 4,
 "nbformat_minor": 2
}
